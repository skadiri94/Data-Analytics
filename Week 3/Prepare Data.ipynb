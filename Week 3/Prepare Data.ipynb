{
  "cells": [
    {
      "metadata": {},
      "cell_type": "markdown",
      "source": "# Prepare Data"
    },
    {
      "metadata": {},
      "cell_type": "markdown",
      "source": "Many machine learning algorithms make assumptions about your data. It is often a very good idea to prepare your data in such a way to best expose the structure of the problem to the machine learning algorithms that you intend to use. In this chapter you will discover how to prepare your data for machine learning in Python using scikit-learn. After completing this lesson you will know how to:\n1. Rescale data.\n2. Standardize data. \n3. Normalize data. \n4. Binarize data.\nLet’s get started."
    },
    {
      "metadata": {},
      "cell_type": "markdown",
      "source": "## Data Pre-processing\nYou almost always need to pre-process your data. It is a required step. A difficulty is that different algorithms make different assumptions about your data and may require different transforms. Further, when you follow all of the rules and prepare your data, sometimes algorithms can deliver better results without pre-processing.\n<br>\nGenerally, I would recommend creating many different views and transforms of your data, then exercise a handful of algorithms on each view of your dataset. This will help you to flush out which data transforms might be better at exposing the structure of your problem in general.\n"
    },
    {
      "metadata": {},
      "cell_type": "markdown",
      "source": "## Data Transforms\nIn this lesson you will work through four different data pre-processing recipes for machine learning. \n<br>\nThe Pima Indian diabetes dataset is used in each recipe. Each recipe follows the same structure:\n1. Load the dataset.\n2. Split the dataset into the input and output variables for machine learning.   \n3. Apply a pre-processing transform to the input variables.\n4. Summarize the data to show the change.\n<br>\n\nThe scikit-learn library provides two standard idioms for transforming data. Each are useful in different circumstances. The transforms are calculated in such a way that they can be applied to your training data and any samples of data you may have in the future. The scikit-learn documentation has some information on how to use various different pre-processing methods:\n- Fit and Multiple Transform.\n- Combined Fit-And-Transform.\n<br>\n\nThe Fit and Multiple Transform method is the preferred approach. \n- You call the `fit()` function to prepare the parameters of the transform once on your data. \n- Then later you can use the `transform()` function on the same data to prepare it for modeling and again on the test or validation dataset or new data that you may see in the future. \n<br>\n\nThe Combined Fit-And-Transform is a convenience that you can use for one off tasks. This might be useful if you are interested in plotting or summarizing the transformed data. You can review the preprocess API in scikit-learn here.\n<br>\nhttp://scikit-learn.org/stable/modules/classes.html#module-sklearn.preprocessing"
    },
    {
      "metadata": {},
      "cell_type": "markdown",
      "source": "## Rescale Data\nWhen your data is comprised of attributes with varying scales, many machine learning algorithms can benefit from rescaling the attributes to all have the same scale. Often this is referred to as normalization and attributes are often rescaled into the range between 0 and 1. This is useful for optimization algorithms used in the core of machine learning algorithms like gradient descent. It is also useful for algorithms that weight inputs like regression and neural networks and algorithms that use distance measures like k-Nearest Neighbors. You can rescale your data using scikit-learn using the `MinMaxScaler` class.\n<br>\nhttp://scikit-learn.org/stable/modules/generated/sklearn.preprocessing.MinMaxScaler.html\n<br>\n\nAfter rescaling you can see that all of the values are in the range between 0 and 1."
    },
    {
      "metadata": {
        "trusted": true
      },
      "cell_type": "code",
      "source": "# Rescale data (between 0 and 1)\nfrom pandas import read_csv\nfrom numpy import set_printoptions\nfrom sklearn.preprocessing import MinMaxScaler\nfilename = 'pima-indians-diabetes.data.csv'\nnames = ['preg', 'plas', 'pres', 'skin', 'test', 'mass', 'pedi', 'age', 'class'] \ndataframe = read_csv(filename, names=names)\narray = dataframe.values\n# separate array into input and output components\nX = array[:,0:8]\nY = array[:,8]\nscaler = MinMaxScaler(feature_range=(0, 1))\nrescaledX = scaler.fit_transform(X)\n# summarize transformed data\nset_printoptions(precision=3)\nprint(rescaledX[0:5,:])",
      "execution_count": 4,
      "outputs": [
        {
          "output_type": "stream",
          "text": "[[0.353 0.744 0.59  0.354 0.    0.501 0.234 0.483]\n [0.059 0.427 0.541 0.293 0.    0.396 0.117 0.167]\n [0.471 0.92  0.525 0.    0.    0.347 0.254 0.183]\n [0.059 0.447 0.541 0.232 0.111 0.419 0.038 0.   ]\n [0.    0.688 0.328 0.354 0.199 0.642 0.944 0.2  ]]\n",
          "name": "stdout"
        }
      ]
    },
    {
      "metadata": {},
      "cell_type": "markdown",
      "source": "## Standardize Data\nStandardization is a useful technique to transform attributes with a Gaussian distribution and differing means and standard deviations to a standard Gaussian distribution with a mean of 0 and a standard deviation of 1. It is most suitable for techniques that assume a Gaussian distribution in the input variables and work better with rescaled data, such as linear regression, logistic regression and linear discriminate analysis. You can standardize data using scikit-learn with the StandardScaler class.\n<br>\nhttp://scikit-learn.org/stable/modules/generated/sklearn.preprocessing.StandardScaler.html\n<br>\n\nThe values for each attribute now have a mean value of 0 and a standard deviation of 1."
    },
    {
      "metadata": {
        "trusted": true
      },
      "cell_type": "code",
      "source": "# Standardize data (0 mean, 1 stdev)\nfrom sklearn.preprocessing import StandardScaler\nfrom pandas import read_csv\nfrom numpy import set_printoptions\nfilename = 'pima-indians-diabetes.data.csv'\nnames = ['preg', 'plas', 'pres', 'skin', 'test', 'mass', 'pedi', 'age', 'class'] \ndataframe = read_csv(filename, names=names)\narray = dataframe.values\n# separate array into input and output components\nX = array[:,0:8]\nY = array[:,8]\nscaler = StandardScaler().fit(X)\nrescaledX = scaler.transform(X)\n# summarize transformed data\nset_printoptions(precision=3)\nprint(rescaledX[0:5,:])",
      "execution_count": 5,
      "outputs": [
        {
          "output_type": "stream",
          "text": "[[ 0.64   0.848  0.15   0.907 -0.693  0.204  0.468  1.426]\n [-0.845 -1.123 -0.161  0.531 -0.693 -0.684 -0.365 -0.191]\n [ 1.234  1.944 -0.264 -1.288 -0.693 -1.103  0.604 -0.106]\n [-0.845 -0.998 -0.161  0.155  0.123 -0.494 -0.921 -1.042]\n [-1.142  0.504 -1.505  0.907  0.766  1.41   5.485 -0.02 ]]\n",
          "name": "stdout"
        }
      ]
    },
    {
      "metadata": {},
      "cell_type": "markdown",
      "source": "## Normalize Data\nNormalizing in scikit-learn refers to rescaling each observation (row) to have a length of 1 (called a unit norm or a vector with the length of 1 in linear algebra). This pre-processing method can be useful for sparse datasets (lots of zeros) with attributes of varying scales when using algorithms that weight input values such as neural networks and algorithms that use distance measures such as k-Nearest Neighbors. You can normalize data in Python with scikit-learn using the Normalizer class.\n\n<br>\nhttp://scikit-learn.org/stable/modules/generated/sklearn.preprocessing.Normalizer.html"
    },
    {
      "metadata": {
        "trusted": true
      },
      "cell_type": "code",
      "source": "# Normalize data (length of 1)\nfrom sklearn.preprocessing import Normalizer\nfrom pandas import read_csv\nfrom numpy import set_printoptions\nfilename = 'pima-indians-diabetes.data.csv'\nnames = ['preg', 'plas', 'pres', 'skin', 'test', 'mass', 'pedi', 'age', 'class'] \ndataframe = read_csv(filename, names=names)\narray = dataframe.values\n# separate array into input and output components\nX = array[:,0:8]\nY = array[:,8]\nscaler = Normalizer().fit(X)\nnormalizedX = scaler.transform(X)\n# summarize transformed data\nset_printoptions(precision=3)\nprint(normalizedX[0:5,:])",
      "execution_count": 6,
      "outputs": [
        {
          "output_type": "stream",
          "text": "[[0.034 0.828 0.403 0.196 0.    0.188 0.004 0.28 ]\n [0.008 0.716 0.556 0.244 0.    0.224 0.003 0.261]\n [0.04  0.924 0.323 0.    0.    0.118 0.003 0.162]\n [0.007 0.588 0.436 0.152 0.622 0.186 0.001 0.139]\n [0.    0.596 0.174 0.152 0.731 0.188 0.01  0.144]]\n",
          "name": "stdout"
        }
      ]
    },
    {
      "metadata": {},
      "cell_type": "markdown",
      "source": "## Binarize Data (Make Binary)\nYou can transform your data using a binary threshold. All values above the threshold are marked 1 and all equal to or below are marked as 0. This is called binarizing your data or thresholding your data. It can be useful when you have probabilities that you want to make into crisp values. It is also useful when feature engineering and you want to add new features that indicate something meaningful. You can create new binary attributes in Python using scikit-learn with the Binarizer class.\n<br>\nhttp://scikit-learn.org/stable/modules/generated/sklearn.preprocessing.Binarizer.html\n\n<br>\nYou can see that all values equal or less than 0 are marked 0 and all of those above 0 are marked 1."
    },
    {
      "metadata": {
        "trusted": true
      },
      "cell_type": "code",
      "source": "# binarization\nfrom sklearn.preprocessing import Binarizer\nfrom pandas import read_csv\nfrom numpy import set_printoptions\nfilename = 'pima-indians-diabetes.data.csv'\nnames = ['preg', 'plas', 'pres', 'skin', 'test', 'mass', 'pedi', 'age', 'class'] \ndataframe = read_csv(filename, names=names)\narray = dataframe.values\n# separate array into input and output components\nX = array[:,0:8]\nY = array[:,8]\nbinarizer = Binarizer(threshold=0.0).fit(X)\nbinaryX = binarizer.transform(X)\n# summarize transformed data\nset_printoptions(precision=3)\nprint(binaryX[0:5,:])\n",
      "execution_count": 7,
      "outputs": [
        {
          "output_type": "stream",
          "text": "[[1. 1. 1. 1. 0. 1. 1. 1.]\n [1. 1. 1. 1. 0. 1. 1. 1.]\n [1. 1. 1. 0. 0. 1. 1. 1.]\n [1. 1. 1. 1. 1. 1. 1. 1.]\n [0. 1. 1. 1. 1. 1. 1. 1.]]\n",
          "name": "stdout"
        }
      ]
    },
    {
      "metadata": {},
      "cell_type": "markdown",
      "source": "# Feature Selection For Machine Learning\nThe data features that you use to train your machine learning models have a huge influence on the performance you can achieve. Irrelevant or partially relevant features can negatively impact model performance. In this chapter you will discover automatic feature selection techniques that you can use to prepare your machine learning data in Python with scikit-learn. After completing this lesson you will know how to use:\n1. Univariate Selection.\n2. Recursive Feature Elimination. \n3. Principle Component Analysis. \n4. Feature Importance."
    },
    {
      "metadata": {},
      "cell_type": "markdown",
      "source": "## Feature Selection\nFeature selection is a process where you automatically select those features in your data that contribute most to the prediction variable or output in which you are interested. Having irrelevant features in your data can decrease the accuracy of many models, especially linear algorithms like linear and logistic regression. Three benefits of performing feature selection before modeling your data are:\n- Reduces Overfitting: Less redundant data means less opportunity to make decisions based on noise.\n- Improves Accuracy: Less misleading data means modeling accuracy improves.\n- Reduces Training Time: Less data means that algorithms train faster.\n<br>\n\nYou can learn more about feature selection with scikit-learn in the article Feature selection. \n<br>\nhttp://scikit-learn.org/stable/modules/feature_selection.html"
    },
    {
      "metadata": {},
      "cell_type": "markdown",
      "source": "## Univariate Selection\nStatistical tests can be used to select those features that have the strongest relationship with the output variable. The scikit-learn library provides the SelectKBest class that can be used with a suite of different statistical tests to select a specific number of features. The example below uses the Chi-Squared (χ2) statistical test for non-negative features to select 4 of the best features from the Pima Indians onset of diabetes dataset.\n<br>\nhttp://scikit-learn.org/stable/modules/generated/sklearn.feature_selection.SelectKBest.html#sklearn.feature_selection.SelectKBest\n<br>\n\nYou can see the scores for each attribute and the 4 attributes chosen (those with the highest scores): plas, test, mass and age. The names for the chosen attributes are manually mapped to the index of the 4 highest scores to the index of the attribute names."
    },
    {
      "metadata": {
        "trusted": true
      },
      "cell_type": "code",
      "source": "# Feature Extraction with Univariate Statistical Tests (Chi-squared for classification)\nfrom pandas import read_csv\nfrom numpy import set_printoptions\nfrom sklearn.feature_selection import SelectKBest\nfrom sklearn.feature_selection import chi2\n# load data\nfilename = 'pima-indians-diabetes.data.csv'\nnames = ['preg', 'plas', 'pres', 'skin', 'test', 'mass', 'pedi', 'age', 'class'] \ndataframe = read_csv(filename, names=names)\narray = dataframe.values\nX = array[:,0:8]\nY = array[:,8]\n# feature extraction\ntest = SelectKBest(score_func=chi2, k=4)\nfit = test.fit(X, Y)\n# summarize scores\nset_printoptions(precision=3)\nprint(fit.scores_)\nfeatures = fit.transform(X)\n# summarize selected features\nprint(features[0:5,:])",
      "execution_count": 8,
      "outputs": [
        {
          "output_type": "stream",
          "text": "[ 111.52  1411.887   17.605   53.108 2175.565  127.669    5.393  181.304]\n[[148.    0.   33.6  50. ]\n [ 85.    0.   26.6  31. ]\n [183.    0.   23.3  32. ]\n [ 89.   94.   28.1  21. ]\n [137.  168.   43.1  33. ]]\n",
          "name": "stdout"
        }
      ]
    },
    {
      "metadata": {},
      "cell_type": "markdown",
      "source": "## Recursive Feature Elimination\nThe Recursive Feature Elimination (or RFE) works by recursively removing attributes and building a model on those attributes that remain. It uses the model accuracy to identify which attributes (and combination of attributes) contribute the most to predicting the target attribute. You can learn more about the RFE class3 in the scikit-learn documentation. The example below uses RFE with the logistic regression algorithm to select the top 3 features. The choice of algorithm does not matter too much as long as it is skillful and consistent.\nhttp://scikit-learn.org/stable/modules/generated/sklearn.feature_selection.RFE.html#sklearn.feature_selection.RFE\n<br>\n\nYou can see that RFE chose the top 3 features as preg, mass and pedi. These are marked True in the support array and marked with a choice 1 in the ranking array. Again, you can manually map the feature indexes to the indexes of attribute names."
    },
    {
      "metadata": {
        "trusted": true
      },
      "cell_type": "code",
      "source": "# Feature Extraction with RFE\nfrom pandas import read_csv\nfrom sklearn.feature_selection import RFE\nfrom sklearn.linear_model import LogisticRegression\n# load data\nfilename = 'pima-indians-diabetes.data.csv'\nnames = ['preg', 'plas', 'pres', 'skin', 'test', 'mass', 'pedi', 'age', 'class'] \ndataframe = read_csv(filename, names=names)\narray = dataframe.values\nX = array[:,0:8]\nY = array[:,8]\n# feature extraction\nmodel = LogisticRegression()\nrfe = RFE(model, 3)\nfit = rfe.fit(X, Y)\nprint(\"Num Features: %d\" % fit.n_features_)\nprint(\"Selected Features: %s\" % fit.support_)\nprint(\"Feature Ranking: %s\" % fit.ranking_)",
      "execution_count": 9,
      "outputs": [
        {
          "output_type": "stream",
          "text": "Num Features: 3\nSelected Features: [ True False False False False  True  True False]\nFeature Ranking: [1 2 3 5 6 1 1 4]\n",
          "name": "stdout"
        }
      ]
    },
    {
      "metadata": {},
      "cell_type": "markdown",
      "source": "## Principal Component Analysis\nPrincipal Component Analysis (or PCA) uses linear algebra to transform the dataset into a compressed form. Generally this is called a data reduction technique. A property of PCA is that you can choose the number of dimensions or principal components in the transformed result. In the example below, we use PCA and select 3 principal components. Learn more about the PCA class in scikit-learn by reviewing the API.\n<br>\nhttp://scikit-learn.org/stable/modules/generated/sklearn.decomposition.PCA.html\n<br>\n\nYou can see that the transformed dataset (3 principal components) bears little resemblance to the source data."
    },
    {
      "metadata": {
        "trusted": true
      },
      "cell_type": "code",
      "source": "# Feature Extraction with PCA\nfrom pandas import read_csv\nfrom sklearn.decomposition import PCA\n# load data\nfilename = 'pima-indians-diabetes.data.csv'\nnames = ['preg', 'plas', 'pres', 'skin', 'test', 'mass', 'pedi', 'age', 'class']\ndataframe = read_csv(filename, names=names)\narray = dataframe.values\nX = array[:,0:8]\nY = array[:,8]\n# feature extraction\npca = PCA(n_components=3)\nfit = pca.fit(X)\n# summarize components\nprint(\"Explained Variance: %s\" % fit.explained_variance_ratio_)\nprint(fit.components_)",
      "execution_count": 10,
      "outputs": [
        {
          "output_type": "stream",
          "text": "Explained Variance: [0.889 0.062 0.026]\n[[-2.022e-03  9.781e-02  1.609e-02  6.076e-02  9.931e-01  1.401e-02\n   5.372e-04 -3.565e-03]\n [-2.265e-02 -9.722e-01 -1.419e-01  5.786e-02  9.463e-02 -4.697e-02\n  -8.168e-04 -1.402e-01]\n [-2.246e-02  1.434e-01 -9.225e-01 -3.070e-01  2.098e-02 -1.324e-01\n  -6.400e-04 -1.255e-01]]\n",
          "name": "stdout"
        }
      ]
    },
    {
      "metadata": {},
      "cell_type": "markdown",
      "source": "## Feature Importance\nBagged decision trees like Random Forest and Extra Trees can be used to estimate the importance of features. In the example below we construct a ExtraTreesClassifier classifier for the Pima Indians onset of diabetes dataset. You can learn more about the `ExtraTreesClassifier` class in the scikit-learn API.\n<br>\nhttp://scikit-learn.org/stable/modules/generated/sklearn.ensemble.ExtraTreesClassifier.html\n\n<br>\nYou can see that we are given an importance score for each attribute where the larger the score, the more important the attribute. The scores highlight the importance of plas, age and mass."
    },
    {
      "metadata": {
        "trusted": true
      },
      "cell_type": "code",
      "source": "# Feature Importance with Extra Trees Classifier\nfrom pandas import read_csv\nfrom sklearn.ensemble import ExtraTreesClassifier\n# load data\nfilename = 'pima-indians-diabetes.data.csv'\nnames = ['preg', 'plas', 'pres', 'skin', 'test', 'mass', 'pedi', 'age', 'class'] \ndataframe = read_csv(filename, names=names)\narray = dataframe.values\nX = array[:,0:8]\nY = array[:,8]\n# feature extraction\nmodel = ExtraTreesClassifier()\nmodel.fit(X, Y)\nprint(model.feature_importances_)",
      "execution_count": 11,
      "outputs": [
        {
          "output_type": "stream",
          "text": "[0.124 0.234 0.099 0.08  0.074 0.134 0.117 0.137]\n",
          "name": "stdout"
        }
      ]
    },
    {
      "metadata": {
        "trusted": true
      },
      "cell_type": "code",
      "source": "",
      "execution_count": null,
      "outputs": []
    }
  ],
  "metadata": {
    "kernelspec": {
      "name": "python3",
      "display_name": "Python 3",
      "language": "python"
    },
    "language_info": {
      "mimetype": "text/x-python",
      "nbconvert_exporter": "python",
      "name": "python",
      "file_extension": ".py",
      "version": "3.5.4",
      "pygments_lexer": "ipython3",
      "codemirror_mode": {
        "version": 3,
        "name": "ipython"
      }
    }
  },
  "nbformat": 4,
  "nbformat_minor": 2
}