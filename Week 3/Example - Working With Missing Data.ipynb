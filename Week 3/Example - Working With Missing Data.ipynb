{
  "cells": [
    {
      "metadata": {},
      "cell_type": "markdown",
      "source": "# Working with Missing data in pandas"
    },
    {
      "metadata": {
        "trusted": true
      },
      "cell_type": "code",
      "source": "import pandas as pd\nimport numpy as np",
      "execution_count": 2,
      "outputs": []
    },
    {
      "metadata": {},
      "cell_type": "markdown",
      "source": "We begin by defining a pandas dataframe that contains some cells with missing values. Note that pandas, in addition to allowing us to create dataframes from a variety of files, also supports explicit declaration."
    },
    {
      "metadata": {
        "trusted": true
      },
      "cell_type": "code",
      "source": "incomplete_df = pd.DataFrame({'id': [1,2,3,2,2,3,1,1,1,2,4],\n                              'type': ['one', 'one', 'two', 'three', 'two', 'three', 'one', 'two', 'one', 'three','one'],\n                              'amount': [345,928,np.NAN,645,113,942,np.NAN,539,np.NAN,814,np.NAN] \n                             }, columns=['id','type','amount'])",
      "execution_count": 3,
      "outputs": []
    },
    {
      "metadata": {},
      "cell_type": "markdown",
      "source": "Column 'amount' is the only one with missing values."
    },
    {
      "metadata": {
        "trusted": true
      },
      "cell_type": "code",
      "source": "incomplete_df",
      "execution_count": 4,
      "outputs": [
        {
          "output_type": "execute_result",
          "execution_count": 4,
          "data": {
            "text/html": "<div>\n<style scoped>\n    .dataframe tbody tr th:only-of-type {\n        vertical-align: middle;\n    }\n\n    .dataframe tbody tr th {\n        vertical-align: top;\n    }\n\n    .dataframe thead th {\n        text-align: right;\n    }\n</style>\n<table border=\"1\" class=\"dataframe\">\n  <thead>\n    <tr style=\"text-align: right;\">\n      <th></th>\n      <th>id</th>\n      <th>type</th>\n      <th>amount</th>\n    </tr>\n  </thead>\n  <tbody>\n    <tr>\n      <th>0</th>\n      <td>1</td>\n      <td>one</td>\n      <td>345.0</td>\n    </tr>\n    <tr>\n      <th>1</th>\n      <td>2</td>\n      <td>one</td>\n      <td>928.0</td>\n    </tr>\n    <tr>\n      <th>2</th>\n      <td>3</td>\n      <td>two</td>\n      <td>NaN</td>\n    </tr>\n    <tr>\n      <th>3</th>\n      <td>2</td>\n      <td>three</td>\n      <td>645.0</td>\n    </tr>\n    <tr>\n      <th>4</th>\n      <td>2</td>\n      <td>two</td>\n      <td>113.0</td>\n    </tr>\n    <tr>\n      <th>5</th>\n      <td>3</td>\n      <td>three</td>\n      <td>942.0</td>\n    </tr>\n    <tr>\n      <th>6</th>\n      <td>1</td>\n      <td>one</td>\n      <td>NaN</td>\n    </tr>\n    <tr>\n      <th>7</th>\n      <td>1</td>\n      <td>two</td>\n      <td>539.0</td>\n    </tr>\n    <tr>\n      <th>8</th>\n      <td>1</td>\n      <td>one</td>\n      <td>NaN</td>\n    </tr>\n    <tr>\n      <th>9</th>\n      <td>2</td>\n      <td>three</td>\n      <td>814.0</td>\n    </tr>\n    <tr>\n      <th>10</th>\n      <td>4</td>\n      <td>one</td>\n      <td>NaN</td>\n    </tr>\n  </tbody>\n</table>\n</div>",
            "text/plain": "    id   type  amount\n0    1    one   345.0\n1    2    one   928.0\n2    3    two     NaN\n3    2  three   645.0\n4    2    two   113.0\n5    3  three   942.0\n6    1    one     NaN\n7    1    two   539.0\n8    1    one     NaN\n9    2  three   814.0\n10   4    one     NaN"
          },
          "metadata": {}
        }
      ]
    },
    {
      "metadata": {},
      "cell_type": "markdown",
      "source": "Recall that summary statistics and arithmetic with missing data is natively supported by pandas. Let's define two series, both containing some missing values."
    },
    {
      "metadata": {
        "trusted": true
      },
      "cell_type": "code",
      "source": "A = incomplete_df['amount']\nB = pd.Series(data=[np.NAN,125,335,345,312,np.NAN,np.NAN,129,551,800,222])",
      "execution_count": 5,
      "outputs": []
    },
    {
      "metadata": {
        "trusted": true
      },
      "cell_type": "code",
      "source": "print (A) \nprint ('\\n')\nprint (B)",
      "execution_count": 8,
      "outputs": [
        {
          "output_type": "stream",
          "text": "0     345.0\n1     928.0\n2       NaN\n3     645.0\n4     113.0\n5     942.0\n6       NaN\n7     539.0\n8       NaN\n9     814.0\n10      NaN\nName: amount, dtype: float64\n\n\n0       NaN\n1     125.0\n2     335.0\n3     345.0\n4     312.0\n5       NaN\n6       NaN\n7     129.0\n8     551.0\n9     800.0\n10    222.0\ndtype: float64\n",
          "name": "stdout"
        }
      ]
    },
    {
      "metadata": {},
      "cell_type": "markdown",
      "source": "The mean is computed normally and missing values are ignored:"
    },
    {
      "metadata": {
        "trusted": true
      },
      "cell_type": "code",
      "source": "A.mean()",
      "execution_count": 9,
      "outputs": [
        {
          "output_type": "execute_result",
          "execution_count": 9,
          "data": {
            "text/plain": "618.0"
          },
          "metadata": {}
        }
      ]
    },
    {
      "metadata": {},
      "cell_type": "markdown",
      "source": "Min, Max, STD and Variance all work even when data are missing:"
    },
    {
      "metadata": {
        "trusted": true
      },
      "cell_type": "code",
      "source": "print (B.min())\nprint (B.max())\nprint (B.std())\nprint (B.var())",
      "execution_count": 10,
      "outputs": [
        {
          "output_type": "stream",
          "text": "125.0\n800.0\n226.90459763647678\n51485.69642857143\n",
          "name": "stdout"
        }
      ]
    },
    {
      "metadata": {},
      "cell_type": "markdown",
      "source": "We can also perform element-wise arithmetic operations between series with missing data. Note that by definition the result of any operation that involves missing values is NaN."
    },
    {
      "metadata": {
        "trusted": true
      },
      "cell_type": "code",
      "source": "A+B",
      "execution_count": 11,
      "outputs": [
        {
          "output_type": "execute_result",
          "execution_count": 11,
          "data": {
            "text/plain": "0        NaN\n1     1053.0\n2        NaN\n3      990.0\n4      425.0\n5        NaN\n6        NaN\n7      668.0\n8        NaN\n9     1614.0\n10       NaN\ndtype: float64"
          },
          "metadata": {}
        }
      ]
    },
    {
      "metadata": {},
      "cell_type": "markdown",
      "source": "### Filling missing values"
    },
    {
      "metadata": {},
      "cell_type": "markdown",
      "source": "Recall that pandas has a function that allows you to drop any rows in a dataframe (or elements in a series) that contain a missing value."
    },
    {
      "metadata": {
        "trusted": true
      },
      "cell_type": "code",
      "source": "A",
      "execution_count": 12,
      "outputs": [
        {
          "output_type": "execute_result",
          "execution_count": 12,
          "data": {
            "text/plain": "0     345.0\n1     928.0\n2       NaN\n3     645.0\n4     113.0\n5     942.0\n6       NaN\n7     539.0\n8       NaN\n9     814.0\n10      NaN\nName: amount, dtype: float64"
          },
          "metadata": {}
        }
      ]
    },
    {
      "metadata": {
        "trusted": true
      },
      "cell_type": "code",
      "source": "A.dropna()",
      "execution_count": 13,
      "outputs": [
        {
          "output_type": "execute_result",
          "execution_count": 13,
          "data": {
            "text/plain": "0    345.0\n1    928.0\n3    645.0\n4    113.0\n5    942.0\n7    539.0\n9    814.0\nName: amount, dtype: float64"
          },
          "metadata": {}
        }
      ]
    },
    {
      "metadata": {},
      "cell_type": "markdown",
      "source": "However, very often you may wish to fill in those missing values rather than simply dropping them. Of course, pandas also has that functionality. For example, we could fill missing values with a scalar number, as shown below."
    },
    {
      "metadata": {
        "trusted": true
      },
      "cell_type": "code",
      "source": "A.fillna(-1)",
      "execution_count": 14,
      "outputs": [
        {
          "output_type": "execute_result",
          "execution_count": 14,
          "data": {
            "text/plain": "0     345.0\n1     928.0\n2      -1.0\n3     645.0\n4     113.0\n5     942.0\n6      -1.0\n7     539.0\n8      -1.0\n9     814.0\n10     -1.0\nName: amount, dtype: float64"
          },
          "metadata": {}
        }
      ]
    },
    {
      "metadata": {},
      "cell_type": "markdown",
      "source": "That actually works with any data type."
    },
    {
      "metadata": {
        "trusted": true
      },
      "cell_type": "code",
      "source": "A.fillna('missing data')",
      "execution_count": 15,
      "outputs": [
        {
          "output_type": "execute_result",
          "execution_count": 15,
          "data": {
            "text/plain": "0              345\n1              928\n2     missing data\n3              645\n4              113\n5              942\n6     missing data\n7              539\n8     missing data\n9              814\n10    missing data\nName: amount, dtype: object"
          },
          "metadata": {}
        }
      ]
    },
    {
      "metadata": {},
      "cell_type": "markdown",
      "source": "As such, we can use this functionality to fill in the gaps with the average value computed across the non-missing values."
    },
    {
      "metadata": {
        "trusted": true
      },
      "cell_type": "code",
      "source": "A.fillna(A.mean())",
      "execution_count": 16,
      "outputs": [
        {
          "output_type": "execute_result",
          "execution_count": 16,
          "data": {
            "text/plain": "0     345.0\n1     928.0\n2     618.0\n3     645.0\n4     113.0\n5     942.0\n6     618.0\n7     539.0\n8     618.0\n9     814.0\n10    618.0\nName: amount, dtype: float64"
          },
          "metadata": {}
        }
      ]
    },
    {
      "metadata": {},
      "cell_type": "markdown",
      "source": "Even better, if we want to fill in the gaps with mean values of corresponding *id's* (recall our initial dataframe printed below), the following two lines of code perform that seemingly complex task."
    },
    {
      "metadata": {
        "trusted": true
      },
      "cell_type": "code",
      "source": "incomplete_df",
      "execution_count": 17,
      "outputs": [
        {
          "output_type": "execute_result",
          "execution_count": 17,
          "data": {
            "text/html": "<div>\n<style scoped>\n    .dataframe tbody tr th:only-of-type {\n        vertical-align: middle;\n    }\n\n    .dataframe tbody tr th {\n        vertical-align: top;\n    }\n\n    .dataframe thead th {\n        text-align: right;\n    }\n</style>\n<table border=\"1\" class=\"dataframe\">\n  <thead>\n    <tr style=\"text-align: right;\">\n      <th></th>\n      <th>id</th>\n      <th>type</th>\n      <th>amount</th>\n    </tr>\n  </thead>\n  <tbody>\n    <tr>\n      <th>0</th>\n      <td>1</td>\n      <td>one</td>\n      <td>345.0</td>\n    </tr>\n    <tr>\n      <th>1</th>\n      <td>2</td>\n      <td>one</td>\n      <td>928.0</td>\n    </tr>\n    <tr>\n      <th>2</th>\n      <td>3</td>\n      <td>two</td>\n      <td>NaN</td>\n    </tr>\n    <tr>\n      <th>3</th>\n      <td>2</td>\n      <td>three</td>\n      <td>645.0</td>\n    </tr>\n    <tr>\n      <th>4</th>\n      <td>2</td>\n      <td>two</td>\n      <td>113.0</td>\n    </tr>\n    <tr>\n      <th>5</th>\n      <td>3</td>\n      <td>three</td>\n      <td>942.0</td>\n    </tr>\n    <tr>\n      <th>6</th>\n      <td>1</td>\n      <td>one</td>\n      <td>NaN</td>\n    </tr>\n    <tr>\n      <th>7</th>\n      <td>1</td>\n      <td>two</td>\n      <td>539.0</td>\n    </tr>\n    <tr>\n      <th>8</th>\n      <td>1</td>\n      <td>one</td>\n      <td>NaN</td>\n    </tr>\n    <tr>\n      <th>9</th>\n      <td>2</td>\n      <td>three</td>\n      <td>814.0</td>\n    </tr>\n    <tr>\n      <th>10</th>\n      <td>4</td>\n      <td>one</td>\n      <td>NaN</td>\n    </tr>\n  </tbody>\n</table>\n</div>",
            "text/plain": "    id   type  amount\n0    1    one   345.0\n1    2    one   928.0\n2    3    two     NaN\n3    2  three   645.0\n4    2    two   113.0\n5    3  three   942.0\n6    1    one     NaN\n7    1    two   539.0\n8    1    one     NaN\n9    2  three   814.0\n10   4    one     NaN"
          },
          "metadata": {}
        }
      ]
    },
    {
      "metadata": {
        "trusted": true
      },
      "cell_type": "code",
      "source": "# Fill in gaps in the 'amount' column with means obtained from corresponding id's in the first column\nincomplete_df[\"amount\"].fillna(incomplete_df.groupby(\"id\")[\"amount\"].transform(\"mean\"),inplace=True)\n# If there is no corresponding id, simply use the overall mean\nincomplete_df[\"amount\"].fillna(incomplete_df[\"amount\"].mean(), inplace=True)\nincomplete_df",
      "execution_count": 18,
      "outputs": [
        {
          "output_type": "execute_result",
          "execution_count": 18,
          "data": {
            "text/html": "<div>\n<style scoped>\n    .dataframe tbody tr th:only-of-type {\n        vertical-align: middle;\n    }\n\n    .dataframe tbody tr th {\n        vertical-align: top;\n    }\n\n    .dataframe thead th {\n        text-align: right;\n    }\n</style>\n<table border=\"1\" class=\"dataframe\">\n  <thead>\n    <tr style=\"text-align: right;\">\n      <th></th>\n      <th>id</th>\n      <th>type</th>\n      <th>amount</th>\n    </tr>\n  </thead>\n  <tbody>\n    <tr>\n      <th>0</th>\n      <td>1</td>\n      <td>one</td>\n      <td>345.0</td>\n    </tr>\n    <tr>\n      <th>1</th>\n      <td>2</td>\n      <td>one</td>\n      <td>928.0</td>\n    </tr>\n    <tr>\n      <th>2</th>\n      <td>3</td>\n      <td>two</td>\n      <td>942.0</td>\n    </tr>\n    <tr>\n      <th>3</th>\n      <td>2</td>\n      <td>three</td>\n      <td>645.0</td>\n    </tr>\n    <tr>\n      <th>4</th>\n      <td>2</td>\n      <td>two</td>\n      <td>113.0</td>\n    </tr>\n    <tr>\n      <th>5</th>\n      <td>3</td>\n      <td>three</td>\n      <td>942.0</td>\n    </tr>\n    <tr>\n      <th>6</th>\n      <td>1</td>\n      <td>one</td>\n      <td>442.0</td>\n    </tr>\n    <tr>\n      <th>7</th>\n      <td>1</td>\n      <td>two</td>\n      <td>539.0</td>\n    </tr>\n    <tr>\n      <th>8</th>\n      <td>1</td>\n      <td>one</td>\n      <td>442.0</td>\n    </tr>\n    <tr>\n      <th>9</th>\n      <td>2</td>\n      <td>three</td>\n      <td>814.0</td>\n    </tr>\n    <tr>\n      <th>10</th>\n      <td>4</td>\n      <td>one</td>\n      <td>615.2</td>\n    </tr>\n  </tbody>\n</table>\n</div>",
            "text/plain": "    id   type  amount\n0    1    one   345.0\n1    2    one   928.0\n2    3    two   942.0\n3    2  three   645.0\n4    2    two   113.0\n5    3  three   942.0\n6    1    one   442.0\n7    1    two   539.0\n8    1    one   442.0\n9    2  three   814.0\n10   4    one   615.2"
          },
          "metadata": {}
        }
      ]
    },
    {
      "metadata": {},
      "cell_type": "markdown",
      "source": "You can fill values forwards and backwards with the flags *pad* / *ffill* and *bfill* / *backfill*"
    },
    {
      "metadata": {
        "trusted": true
      },
      "cell_type": "code",
      "source": "print (B)\nprint ('\\n')\nprint (B.fillna(method='pad'))",
      "execution_count": 20,
      "outputs": [
        {
          "output_type": "stream",
          "text": "0       NaN\n1     125.0\n2     335.0\n3     345.0\n4     312.0\n5       NaN\n6       NaN\n7     129.0\n8     551.0\n9     800.0\n10    222.0\ndtype: float64\n\n\n0       NaN\n1     125.0\n2     335.0\n3     345.0\n4     312.0\n5     312.0\n6     312.0\n7     129.0\n8     551.0\n9     800.0\n10    222.0\ndtype: float64\n",
          "name": "stdout"
        }
      ]
    },
    {
      "metadata": {},
      "cell_type": "markdown",
      "source": "We can set a limit if we only want to replace consecutive gaps."
    },
    {
      "metadata": {
        "trusted": true
      },
      "cell_type": "code",
      "source": "B.fillna(method='bfill',limit=1)",
      "execution_count": 21,
      "outputs": [
        {
          "output_type": "execute_result",
          "execution_count": 21,
          "data": {
            "text/plain": "0     125.0\n1     125.0\n2     335.0\n3     345.0\n4     312.0\n5       NaN\n6     129.0\n7     129.0\n8     551.0\n9     800.0\n10    222.0\ndtype: float64"
          },
          "metadata": {}
        }
      ]
    },
    {
      "metadata": {},
      "cell_type": "markdown",
      "source": "There is also a function that does linear interpolation. The keyword *method* gives you access to fancier methods for interpolation, some of which require SciPy."
    },
    {
      "metadata": {
        "trusted": true
      },
      "cell_type": "code",
      "source": "print (B)\nprint ('\\n')\nprint (B.interpolate())",
      "execution_count": 23,
      "outputs": [
        {
          "output_type": "stream",
          "text": "0       NaN\n1     125.0\n2     335.0\n3     345.0\n4     312.0\n5       NaN\n6       NaN\n7     129.0\n8     551.0\n9     800.0\n10    222.0\ndtype: float64\n\n\n0       NaN\n1     125.0\n2     335.0\n3     345.0\n4     312.0\n5     251.0\n6     190.0\n7     129.0\n8     551.0\n9     800.0\n10    222.0\ndtype: float64\n",
          "name": "stdout"
        }
      ]
    },
    {
      "metadata": {
        "trusted": true
      },
      "cell_type": "code",
      "source": "B.interpolate(method='barycentric')",
      "execution_count": 24,
      "outputs": [
        {
          "output_type": "execute_result",
          "execution_count": 24,
          "data": {
            "text/plain": "0            NaN\n1     125.000000\n2     335.000000\n3     345.000000\n4     312.000000\n5     146.563492\n6      -1.849206\n7     129.000000\n8     551.000000\n9     800.000000\n10    222.000000\ndtype: float64"
          },
          "metadata": {}
        }
      ]
    },
    {
      "metadata": {
        "trusted": true
      },
      "cell_type": "code",
      "source": "B.interpolate(method='pchip')",
      "execution_count": 25,
      "outputs": [
        {
          "output_type": "execute_result",
          "execution_count": 25,
          "data": {
            "text/plain": "0            NaN\n1     125.000000\n2     335.000000\n3     345.000000\n4     312.000000\n5     246.420420\n6     167.376877\n7     129.000000\n8     551.000000\n9     800.000000\n10    222.000000\ndtype: float64"
          },
          "metadata": {}
        }
      ]
    },
    {
      "metadata": {},
      "cell_type": "markdown",
      "source": "Below we compare three different methods."
    },
    {
      "metadata": {
        "trusted": true
      },
      "cell_type": "code",
      "source": "np.random.seed(2)\nser = pd.Series(np.arange(1, 10.1, .25)**2 + np.random.randn(37))\nbad = np.array([4, 13, 14, 15, 16, 17, 18, 20, 29])\nser[bad] = np.nan\nmethods = ['linear', 'quadratic', 'cubic']\ndf = pd.DataFrame({m: ser.interpolate(method=m) for m in methods})\ndf.plot()",
      "execution_count": 27,
      "outputs": [
        {
          "output_type": "execute_result",
          "execution_count": 27,
          "data": {
            "text/plain": "<matplotlib.axes._subplots.AxesSubplot at 0x7fa7796f3668>"
          },
          "metadata": {}
        },
        {
          "output_type": "display_data",
          "data": {
            "image/png": "[encoded data removed]",
            "text/plain": "<Figure size 432x288 with 1 Axes>"
          },
          "metadata": {
            "needs_background": "light"
          }
        }
      ]
    },
    {
      "metadata": {
        "trusted": true
      },
      "cell_type": "code",
      "source": "",
      "execution_count": null,
      "outputs": []
    }
  ],
  "metadata": {
    "kernelspec": {
      "name": "python36",
      "display_name": "Python 3.6",
      "language": "python"
    },
    "language_info": {
      "mimetype": "text/x-python",
      "nbconvert_exporter": "python",
      "name": "python",
      "pygments_lexer": "ipython3",
      "version": "3.6.6",
      "file_extension": ".py",
      "codemirror_mode": {
        "version": 3,
        "name": "ipython"
      }
    }
  },
  "nbformat": 4,
  "nbformat_minor": 1
}